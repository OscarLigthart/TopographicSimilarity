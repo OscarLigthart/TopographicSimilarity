{
 "cells": [
  {
   "cell_type": "markdown",
   "metadata": {},
   "source": [
    "# Generalization"
   ]
  },
  {
   "cell_type": "markdown",
   "metadata": {},
   "source": [
    "As a final experiment, we will try and find whether there exist any differences between the extent to which agents of different language are able to generalize. While we expect to find that all agents are able to generalize to a certain extent, some might be better able to generalize than others. This is based on the fact that agents seem to use completely different structures within their language, as is appointed by the problem area RSA figure. If structures are similar between languages, we will likely find that agents are able to generalize to similar extent. Differences in performance on new (not seen before) samples will indicate the degree of which structure in the created languages will differ."
   ]
  },
  {
   "cell_type": "code",
   "execution_count": 3,
   "metadata": {},
   "outputs": [],
   "source": [
    "import glob\n",
    "import pickle\n",
    "from metrics import *\n",
    "import matplotlib.pyplot as plt\n",
    "from scipy import spatial\n",
    "from data import one_hot\n"
   ]
  },
  {
   "cell_type": "code",
   "execution_count": 4,
   "metadata": {},
   "outputs": [],
   "source": [
    "# functions for loading data\n",
    "\n",
    "def load_metrics(path):\n",
    "    \"\"\"\n",
    "        This function loads metrics\n",
    "    \"\"\"\n",
    "\n",
    "    # load the data\n",
    "    seed_folders = glob.glob(f\"{path}/*\")\n",
    "\n",
    "    # save results\n",
    "    generalize_result = {}\n",
    "    train_result = {}\n",
    "\n",
    "    # run through all seed\n",
    "    for s in seed_folders:\n",
    "\n",
    "        # get seed index\n",
    "        seed = s.split(\"/\")[-1]\n",
    "        \n",
    "        # make sure to ignore the rsa analysis for now\n",
    "        if seed == 'rsa_analysis.pkl':\n",
    "            continue\n",
    "\n",
    "        # get all metric files\n",
    "        metric_files = glob.glob(s + \"/*.pkl\")\n",
    "\n",
    "        for file in metric_files:\n",
    "\n",
    "            # load files\n",
    "            m1 = pickle.load(open(file, \"rb\"))\n",
    "\n",
    "            # check if file is generalize or train metric\n",
    "            if file.find('generalize') == -1:\n",
    "                if file.find('9800') != -1:\n",
    "                    train_result[seed] = m1\n",
    "            else:\n",
    "                generalize_result[seed] = m1                \n",
    "\n",
    "    return train_result, generalize_result\n",
    "\n",
    "def on_hot_hamming(a, b):\n",
    "    return spatial.distance.hamming(\n",
    "        one_hot(a, n_cols=VOCAB).flatten(), one_hot(b, n_cols=VOCAB).flatten()\n",
    "    )\n",
    "\n",
    "def levenshtein_ratio_and_distance(s, t):\n",
    "    \"\"\" levenshtein_ratio_and_distance:\n",
    "        Calculates levenshtein distance between two strings.\n",
    "        If ratio_calc = True, the function computes the\n",
    "        levenshtein distance ratio of similarity between two strings\n",
    "        For all i and j, distance[i,j] will contain the Levenshtein\n",
    "        distance between the first i characters of s and the\n",
    "        first j characters of t\n",
    "    \"\"\"\n",
    "    # Initialize matrix of zeros\n",
    "    rows = len(s)+1\n",
    "    cols = len(t)+1\n",
    "    distance = np.zeros((rows,cols),dtype = int)\n",
    "\n",
    "    # Populate matrix of zeros with the indeces of each character of both strings\n",
    "    for i in range(1, rows):\n",
    "        for k in range(1,cols):\n",
    "            distance[i][0] = i\n",
    "            distance[0][k] = k\n",
    "\n",
    "    # Iterate over the matrix to compute the cost of deletions,insertions and/or substitutions\n",
    "    for col in range(1, cols):\n",
    "        for row in range(1, rows):\n",
    "            if s[row-1] == t[col-1]:\n",
    "                cost = 0 # If the characters are the same in the two strings in a given position\n",
    "                         # [i,j] then the cost is 0\n",
    "            else:\n",
    "                # If we choose to calculate the ratio the cost of a substitution is 2.\n",
    "                cost = 2\n",
    "\n",
    "            distance[row][col] = min(distance[row-1][col] + 1,      # Cost of deletions\n",
    "                                 distance[row][col-1] + 1,          # Cost of insertions\n",
    "                                 distance[row-1][col-1] + cost)     # Cost of substitutions\n",
    "\n",
    "    # Computation of the Levenshtein Distance Ratio\n",
    "    Ratio = ((len(s)+len(t)) - distance[row][col]) / (len(s)+len(t))\n",
    "    return Ratio\n",
    "\n",
    "\n",
    "def get_similarity(train_data, generalize_data):\n",
    "\n",
    "    # extract targets\n",
    "    train_targets = train_data['targets']\n",
    "    generalize_targets = generalize_data['targets']\n",
    "\n",
    "\n",
    "    # extract messages\n",
    "    train_messages = train_data['messages']\n",
    "    generalize_messages = generalize_data['messages']\n",
    "\n",
    "    # now check for the messages describing similar targets\n",
    "    VOCAB = 25\n",
    "    # get a target from the generalize set\n",
    "    same_count = 0\n",
    "    count = 0\n",
    "    all_similarities = []\n",
    "\n",
    "    for tar_i in range(len(generalize_targets)):\n",
    "\n",
    "        target = generalize_targets[tar_i]\n",
    "\n",
    "        for i, train_target in enumerate(train_targets):\n",
    "            score = spatial.distance.hamming(target, train_target)\n",
    "\n",
    "            # check if targets are close\n",
    "            if score < 0.2:\n",
    "\n",
    "                #print(generalize_messages[tar_i])\n",
    "                #print(train_messages[i])\n",
    "                #print()\n",
    "\n",
    "                # now check for message distance\n",
    "                similarity = levenshtein_ratio_and_distance(generalize_messages[tar_i], train_messages[i])\n",
    "\n",
    "                # print(similarity)\n",
    "                # print()\n",
    "\n",
    "                all_similarities.append(similarity)\n",
    "                \n",
    "    return np.average(all_similarities)\n",
    "   "
   ]
  },
  {
   "cell_type": "markdown",
   "metadata": {},
   "source": [
    "# Choose a run"
   ]
  },
  {
   "cell_type": "code",
   "execution_count": 29,
   "metadata": {},
   "outputs": [],
   "source": [
    "#path = \"split_runs/90-10-split/lstm_max_len_10_vocab_25_attr_5_split\"\n",
    "path = \"runs/lstm_max_len_10_vocab_25_attr_5_split\"\n",
    "\n",
    "train, generalize = load_metrics(path)"
   ]
  },
  {
   "cell_type": "code",
   "execution_count": 30,
   "metadata": {},
   "outputs": [
    {
     "name": "stdout",
     "output_type": "stream",
     "text": [
      "No same targets found\n"
     ]
    }
   ],
   "source": [
    "# what's next?\n",
    "# first check whether targets in the generalize do not appear in the train\n",
    "\n",
    "seed = '1'\n",
    "\n",
    "# extract targets\n",
    "train_targets = train[seed]['targets']\n",
    "generalize_targets = generalize[seed]['targets']\n",
    "\n",
    "count = 0\n",
    "for target in train_targets:\n",
    "    target = tuple(target)\n",
    "    for target2 in generalize_targets:\n",
    "        target2 = tuple(target2)\n",
    "        if target == target2:\n",
    "            count += 1\n",
    "            \n",
    "if count == 0:\n",
    "    print('No same targets found')\n",
    "\n",
    "# DONE"
   ]
  },
  {
   "cell_type": "markdown",
   "metadata": {},
   "source": [
    "# Plot results"
   ]
  },
  {
   "cell_type": "code",
   "execution_count": 31,
   "metadata": {},
   "outputs": [],
   "source": [
    "# plot code\n",
    "def plot_results(generalize):\n",
    "    \n",
    "    \n",
    "    fig, ax = plt.subplots(figsize=(15,8))\n",
    "    \n",
    "    index = np.arange(10)\n",
    "\n",
    "    bar_width = 0.4\n",
    "    opacity = 0.7\n",
    "    \n",
    "    all_acc = []\n",
    "    # get the accuracy\n",
    "    for i, seed in enumerate(sorted(generalize.keys())):\n",
    "        \n",
    "        # get the accuracy for the seed\n",
    "        acc = generalize[seed]['acc']\n",
    "        all_acc.append(acc)\n",
    "        \n",
    "    # plot the bar\n",
    "    plt.bar(index + bar_width, all_acc, bar_width,\n",
    "            alpha=opacity,\n",
    "            label=seed)\n",
    "    \n",
    "    plt.ylabel('Accuracy')\n",
    "    plt.title('Accuracy per seed')\n",
    "    plt.xlabel('seed')\n",
    "    plt.xticks(index + bar_width, tuple([i for i in sorted(generalize.keys())]))\n",
    "        \n",
    "    plt.show()\n",
    "    return all_acc"
   ]
  },
  {
   "cell_type": "markdown",
   "metadata": {},
   "source": [
    "# Accuracy at final iteration of training"
   ]
  },
  {
   "cell_type": "code",
   "execution_count": 32,
   "metadata": {},
   "outputs": [
    {
     "data": {
      "image/png": "[encoded data removed]",
      "text/plain": [
       "<Figure size 1080x576 with 1 Axes>"
      ]
     },
     "metadata": {
      "needs_background": "light"
     },
     "output_type": "display_data"
    },
    {
     "name": "stdout",
     "output_type": "stream",
     "text": [
      "\n",
      "Accuracy for seed 1: 0.921875\n",
      "\n",
      "Accuracy for seed 10: 0.8385416666666666\n",
      "\n",
      "Accuracy for seed 2: 0.890625\n",
      "\n",
      "Accuracy for seed 3: 0.90625\n",
      "\n",
      "Accuracy for seed 4: 0.9270833333333334\n",
      "\n",
      "Accuracy for seed 5: 0.8958333333333334\n",
      "\n",
      "Accuracy for seed 6: 0.9166666666666666\n",
      "\n",
      "Accuracy for seed 7: 0.8385416666666666\n",
      "\n",
      "Accuracy for seed 8: 0.9375\n",
      "\n",
      "Accuracy for seed 9: 0.8229166666666666\n"
     ]
    }
   ],
   "source": [
    "all_acc = plot_results(train)\n",
    "\n",
    "for i, seed in enumerate(sorted(train.keys())):\n",
    "    print()\n",
    "    print('Accuracy for seed ' + seed + ': ' + str(all_acc[i]))"
   ]
  },
  {
   "cell_type": "markdown",
   "metadata": {},
   "source": [
    "# Accuracy for newly seen samples"
   ]
  },
  {
   "cell_type": "code",
   "execution_count": 24,
   "metadata": {},
   "outputs": [
    {
     "data": {
      "image/png": "[encoded data removed]",
      "text/plain": [
       "<Figure size 1080x576 with 1 Axes>"
      ]
     },
     "metadata": {
      "needs_background": "light"
     },
     "output_type": "display_data"
    },
    {
     "name": "stdout",
     "output_type": "stream",
     "text": [
      "\n",
      "Accuracy for seed 1: 1.0\n",
      "\n",
      "Accuracy for seed 10: 1.0\n",
      "\n",
      "Accuracy for seed 2: 1.0\n",
      "\n",
      "Accuracy for seed 3: 1.0\n",
      "\n",
      "Accuracy for seed 4: 1.0\n",
      "\n",
      "Accuracy for seed 5: 0.9131944477558136\n",
      "\n",
      "Accuracy for seed 6: 1.0\n",
      "\n",
      "Accuracy for seed 7: 1.0\n",
      "\n",
      "Accuracy for seed 8: 1.0\n",
      "\n",
      "Accuracy for seed 9: 1.0\n"
     ]
    }
   ],
   "source": [
    "all_acc = plot_results(generalize)\n",
    "\n",
    "for i, seed in enumerate(sorted(generalize.keys())):\n",
    "    print()\n",
    "    print('Accuracy for seed ' + seed + ': ' + str(all_acc[i]))\n",
    "\n"
   ]
  },
  {
   "cell_type": "code",
   "execution_count": 33,
   "metadata": {
    "scrolled": false
   },
   "outputs": [],
   "source": [
    "def get_same_count(generalize, train):\n",
    "    # now check for the messages describing similar targets\n",
    "    VOCAB = 25\n",
    "    # get a target from the generalize set\n",
    "    same_count = 0\n",
    "    count = 0\n",
    "    #seed = '4'\n",
    "    for tar_i in range(len(generalize['targets'])):\n",
    "\n",
    "        target = generalize['targets'][tar_i]\n",
    "\n",
    "        #print('Generalize message: ', generalize['messages'][tar_i])\n",
    "\n",
    "        # extract targets\n",
    "        train_targets = train['targets']\n",
    "        generalize_targets = generalize['targets']\n",
    "\n",
    "        # extract messages\n",
    "        train_messages = train['messages']\n",
    "        generalize_messages = generalize['messages']\n",
    "\n",
    "\n",
    "        for i, train_target in enumerate(train_targets):\n",
    "            score = spatial.distance.hamming(target, train_target)\n",
    "\n",
    "            # check if targets are close\n",
    "            if score < 0.2:\n",
    "                \n",
    "                # keep track of the amount of similar targets               \n",
    "                count += 1\n",
    "                \n",
    "                # check whether the messages are identical for these similar targets\n",
    "                if tuple(train_messages[i]) == tuple(generalize_messages[tar_i]):\n",
    "                    same_count += 1\n",
    "                    \n",
    "    return same_count, count\n"
   ]
  },
  {
   "cell_type": "markdown",
   "metadata": {},
   "source": [
    "# Nr of identical messages\n",
    "But how many of the targets actually produce identical messages?"
   ]
  },
  {
   "cell_type": "code",
   "execution_count": 34,
   "metadata": {},
   "outputs": [
    {
     "name": "stdout",
     "output_type": "stream",
     "text": [
      "7 / 162\n",
      "12 / 162\n",
      "43 / 162\n",
      "30 / 162\n",
      "20 / 162\n",
      "118 / 162\n",
      "5 / 162\n",
      "15 / 162\n",
      "22 / 162\n",
      "27 / 162\n"
     ]
    }
   ],
   "source": [
    "for seed in sorted(train.keys()):\n",
    "    #print('For seed ' + str(seed) + ', we find the following amount of identical messages:')\n",
    "    same_count, count = get_same_count(generalize[seed], train[seed])\n",
    "    print(same_count, '/', count)\n",
    "\n",
    "#print(same_count, '/', count)  "
   ]
  },
  {
   "cell_type": "markdown",
   "metadata": {},
   "source": [
    "How identical are the messages? Compared to the targets?"
   ]
  },
  {
   "cell_type": "code",
   "execution_count": 35,
   "metadata": {},
   "outputs": [
    {
     "name": "stdout",
     "output_type": "stream",
     "text": [
      "0.5565095398428731\n",
      "0.35999999999999993\n"
     ]
    }
   ],
   "source": [
    "from itertools import combinations\n",
    "\n",
    "generalize_messages = generalize[seed]['messages']\n",
    "\n",
    "similarities = []\n",
    "for (message1, message2) in combinations(generalize_messages, 2):\n",
    "    similarity = levenshtein_ratio_and_distance(message1,message2)\n",
    "    similarities.append(similarity)\n",
    "\n",
    "print(np.average(similarities))        \n",
    "\n",
    "distances = []\n",
    "for (target1, target2) in combinations(generalize_targets, 2):\n",
    "    distance = spatial.distance.hamming(target1, target2)\n",
    "    distances.append(distance)\n",
    "    \n",
    "print(np.average(distances))"
   ]
  },
  {
   "cell_type": "markdown",
   "metadata": {},
   "source": [
    "Do the others resemble any similarities? Let's try and show that by checking at the distances between the messages"
   ]
  },
  {
   "cell_type": "code",
   "execution_count": 38,
   "metadata": {},
   "outputs": [
    {
     "name": "stdout",
     "output_type": "stream",
     "text": [
      "\n",
      "Seed 1: \t0.5622895622895623\n",
      "Seed 10: \t0.46071829405162734\n",
      "Seed 2: \t0.904040404040404\n",
      "Seed 3: \t0.8058361391694724\n",
      "Seed 4: \t0.6335578002244668\n",
      "Seed 5: \t0.9702581369248037\n",
      "Seed 6: \t0.557800224466891\n",
      "Seed 7: \t0.5892255892255891\n",
      "Seed 8: \t0.6638608305274971\n",
      "Seed 9: \t0.7912457912457913\n"
     ]
    }
   ],
   "source": [
    "# go through all seeds\n",
    "print()\n",
    "for seed in sorted(train.keys()):\n",
    "    \n",
    "    sim = get_similarity(train[seed], generalize[seed])\n",
    "    print('Seed ' + str(seed) + ': \\t' + str(sim))"
   ]
  },
  {
   "cell_type": "markdown",
   "metadata": {},
   "source": [
    "### Note that there exist pretty big differences between the train and generalize messages per initialization"
   ]
  },
  {
   "cell_type": "markdown",
   "metadata": {},
   "source": [
    "# Conclusion\n",
    "\n",
    "So far we have a couple of reasons to believe that agents actually hash new objects that they see.\n",
    "\n",
    "First of all, if we use just a small proportion of the data for the generalization, we find that a lot of the messages (1/5) are the exact same for samples that they have not seen before.\n",
    "\n",
    "Second, if we however use a large proportion of the data for generalization, we find that messages that are used for these newly seen objects are extremely similar. Which, they should not be.\n",
    "\n",
    "The more data we use for generalization, the more similar the messages. This is in favour of the hash hypothesis. They have never seen this new target so they do not at all match it with what they currently know, instead they just try something new.\n",
    "\n",
    "### Main finding: the more targets are unknown to the model, the more similar the messages that describe these targets are."
   ]
  },
  {
   "cell_type": "markdown",
   "metadata": {},
   "source": [
    "# What's next\n",
    "\n",
    "Maybe check message similarity for the same targets, this will remove any data biases that might cause this effect."
   ]
  },
  {
   "cell_type": "code",
   "execution_count": null,
   "metadata": {},
   "outputs": [],
   "source": []
  },
  {
   "cell_type": "code",
   "execution_count": null,
   "metadata": {},
   "outputs": [],
   "source": []
  }
 ],
 "metadata": {
  "kernelspec": {
   "display_name": "Python 3",
   "language": "python",
   "name": "python3"
  },
  "language_info": {
   "codemirror_mode": {
    "name": "ipython",
    "version": 3
   },
   "file_extension": ".py",
   "mimetype": "text/x-python",
   "name": "python",
   "nbconvert_exporter": "python",
   "pygments_lexer": "ipython3",
   "version": "3.6.8"
  }
 },
 "nbformat": 4,
 "nbformat_minor": 2
}
