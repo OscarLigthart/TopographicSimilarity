{
 "cells": [
  {
   "cell_type": "markdown",
   "metadata": {},
   "source": [
    "# Generalization"
   ]
  },
  {
   "cell_type": "markdown",
   "metadata": {},
   "source": [
    "As a final experiment, we will try and find whether there exist any differences between the extent to which agents of different language are able to generalize. While we expect to find that all agents are able to generalize to a certain extent, some might be better able to generalize than others. This is based on the fact that agents seem to use completely different structures within their language, as is appointed by the problem area RSA figure. If structures are similar between languages, we will likely find that agents are able to generalize to similar extent. Differences in performance on new (not seen before) samples will indicate the degree of which structure in the created languages will differ."
   ]
  },
  {
   "cell_type": "code",
   "execution_count": 1,
   "metadata": {},
   "outputs": [],
   "source": [
    "import glob\n",
    "import pickle\n",
    "from metrics import *\n",
    "import matplotlib.pyplot as plt\n",
    "from scipy import spatial\n",
    "from data import one_hot\n"
   ]
  },
  {
   "cell_type": "code",
   "execution_count": 2,
   "metadata": {},
   "outputs": [],
   "source": [
    "# functions for loading data\n",
    "\n",
    "def load_metrics(path):\n",
    "    \"\"\"\n",
    "        This function loads metrics\n",
    "    \"\"\"\n",
    "\n",
    "    # load the data\n",
    "    seed_folders = glob.glob(f\"{path}/*\")\n",
    "\n",
    "    # save results\n",
    "    generalize_result = {}\n",
    "    train_result = {}\n",
    "\n",
    "    # run through all seed\n",
    "    for s in seed_folders:\n",
    "\n",
    "        # get seed index\n",
    "        seed = s.split(\"/\")[-1]\n",
    "        \n",
    "        # make sure to ignore the rsa analysis for now\n",
    "        if seed == 'rsa_analysis.pkl':\n",
    "            continue\n",
    "\n",
    "        # get all metric files\n",
    "        metric_files = glob.glob(s + \"/*.pkl\")\n",
    "\n",
    "        for file in metric_files:\n",
    "\n",
    "            # load files\n",
    "            m1 = pickle.load(open(file, \"rb\"))\n",
    "\n",
    "            # check if file is generalize or train metric\n",
    "            if file.find('generalize') == -1:\n",
    "                if file.find('10000') != -1:\n",
    "                    train_result[seed] = m1\n",
    "            else:\n",
    "                generalize_result[seed] = m1                \n",
    "\n",
    "    return train_result, generalize_result\n",
    "\n",
    "def on_hot_hamming(a, b):\n",
    "    return spatial.distance.hamming(\n",
    "        one_hot(a, n_cols=VOCAB).flatten(), one_hot(b, n_cols=VOCAB).flatten()\n",
    "    )\n",
    "\n",
    "def levenshtein_ratio_and_distance(s, t):\n",
    "    \"\"\" levenshtein_ratio_and_distance:\n",
    "        Calculates levenshtein distance between two strings.\n",
    "        If ratio_calc = True, the function computes the\n",
    "        levenshtein distance ratio of similarity between two strings\n",
    "        For all i and j, distance[i,j] will contain the Levenshtein\n",
    "        distance between the first i characters of s and the\n",
    "        first j characters of t\n",
    "    \"\"\"\n",
    "    # Initialize matrix of zeros\n",
    "    rows = len(s)+1\n",
    "    cols = len(t)+1\n",
    "    distance = np.zeros((rows,cols),dtype = int)\n",
    "\n",
    "    # Populate matrix of zeros with the indeces of each character of both strings\n",
    "    for i in range(1, rows):\n",
    "        for k in range(1,cols):\n",
    "            distance[i][0] = i\n",
    "            distance[0][k] = k\n",
    "\n",
    "    # Iterate over the matrix to compute the cost of deletions,insertions and/or substitutions\n",
    "    for col in range(1, cols):\n",
    "        for row in range(1, rows):\n",
    "            if s[row-1] == t[col-1]:\n",
    "                cost = 0 # If the characters are the same in the two strings in a given position\n",
    "                         # [i,j] then the cost is 0\n",
    "            else:\n",
    "                # If we choose to calculate the ratio the cost of a substitution is 2.\n",
    "                cost = 2\n",
    "\n",
    "            distance[row][col] = min(distance[row-1][col] + 1,      # Cost of deletions\n",
    "                                 distance[row][col-1] + 1,          # Cost of insertions\n",
    "                                 distance[row-1][col-1] + cost)     # Cost of substitutions\n",
    "\n",
    "    # Computation of the Levenshtein Distance Ratio\n",
    "    Ratio = ((len(s)+len(t)) - distance[row][col]) / (len(s)+len(t))\n",
    "    return Ratio\n",
    "\n",
    "\n",
    "def get_similarity(train_data, generalize_data):\n",
    "\n",
    "    # extract targets\n",
    "    train_targets = train_data['targets']\n",
    "    generalize_targets = generalize_data['targets']\n",
    "\n",
    "\n",
    "    # extract messages\n",
    "    train_messages = train_data['messages']\n",
    "    generalize_messages = generalize_data['messages']\n",
    "\n",
    "    # now check for the messages describing similar targets\n",
    "    VOCAB = 25\n",
    "    # get a target from the generalize set\n",
    "    same_count = 0\n",
    "    count = 0\n",
    "    all_similarities = []\n",
    "\n",
    "    for tar_i in range(len(generalize_targets)):\n",
    "\n",
    "        target = generalize_targets[tar_i]\n",
    "\n",
    "        for i, train_target in enumerate(train_targets):\n",
    "            score = spatial.distance.hamming(target, train_target)\n",
    "\n",
    "            # check if targets are close\n",
    "            if score < 0.2:\n",
    "\n",
    "                #print(generalize_messages[tar_i])\n",
    "                #print(train_messages[i])\n",
    "                #print()\n",
    "\n",
    "                # now check for message distance\n",
    "                similarity = levenshtein_ratio_and_distance(generalize_messages[tar_i], train_messages[i])\n",
    "\n",
    "                # print(similarity)\n",
    "                # print()\n",
    "\n",
    "                all_similarities.append(similarity)\n",
    "                \n",
    "    return np.average(all_similarities)\n",
    "   "
   ]
  },
  {
   "cell_type": "markdown",
   "metadata": {},
   "source": [
    "# Choose a run"
   ]
  },
  {
   "cell_type": "code",
   "execution_count": 75,
   "metadata": {},
   "outputs": [],
   "source": [
    "#path = \"split_runs/90-10-split/lstm_max_len_10_vocab_25_attr_5_split\"\n",
    "path = \"runs/lstm_max_len_10_vocab_25_attr_5_split_2\"\n",
    "\n",
    "# paths = [\"runs/lstm_max_len_10_vocab_25_attr_5_split_1\",\n",
    "#         \"runs/lstm_max_len_10_vocab_25_attr_5_split_2\",\n",
    "#         \"runs/lstm_max_len_10_vocab_25_attr_5_split_3\",\n",
    "#         \"runs/lstm_max_len_10_vocab_25_attr_3_split_2\"]\n",
    "\n",
    "paths = [\"runs/lstm_max_len_10_vocab_25_attr_5_split_2\",\n",
    "        \"runs/lstm_max_len_10_vocab_25_same_data_attr_5_split_2\",]\n",
    "\n",
    "train, generalize = load_metrics(path)"
   ]
  },
  {
   "cell_type": "markdown",
   "metadata": {},
   "source": [
    "# Plot results"
   ]
  },
  {
   "cell_type": "code",
   "execution_count": 76,
   "metadata": {},
   "outputs": [],
   "source": [
    "# plot code\n",
    "def plot_results(paths, individual=False):\n",
    "    \n",
    "    for path in paths:\n",
    "        \n",
    "        train, generalize = load_metrics(path)\n",
    "        fig, ax = plt.subplots(figsize=(15,8))\n",
    "\n",
    "        index = np.arange(10)\n",
    "\n",
    "        bar_width = 0.6\n",
    "        opacity = 0.7\n",
    "\n",
    "        all_gen_acc = []\n",
    "        all_train_acc = []\n",
    "        # get the accuracy\n",
    "        for i, seed in enumerate(sorted(generalize.keys())):\n",
    "\n",
    "            # get the accuracy for the seed\n",
    "            gen_acc = generalize[seed]['acc']\n",
    "            train_acc = train[seed]['acc']\n",
    "            all_gen_acc.append(gen_acc)\n",
    "            all_train_acc.append(train_acc)\n",
    "            \n",
    "            if individual:\n",
    "                print()\n",
    "                print('Training accuracy for seed ' + seed + ': ' + str(train_acc))\n",
    "                print('Generalization accuracy for seed ' + seed + ': ' + str(gen_acc))\n",
    "\n",
    "        # plot the bar\n",
    "        trainBar = ax.bar(index, all_train_acc, bar_width,\n",
    "                alpha=0.6,\n",
    "                label='Train')\n",
    "        \n",
    "        genBar = ax.bar(index, all_gen_acc, bar_width,\n",
    "                alpha=0.8,\n",
    "                label='Generalize')\n",
    "        \n",
    "        for rect in trainBar:\n",
    "            height = rect.get_height()\n",
    "            ax.text(rect.get_x() + rect.get_width()/3., 1.01*height,\n",
    "                    '%10.3f' % height,\n",
    "                    ha='center', va='bottom')\n",
    "            \n",
    "        for rect in genBar:\n",
    "            height = rect.get_height()\n",
    "            ax.text(rect.get_x() + rect.get_width()/3., 0.5*height,\n",
    "                    '%10.3f' % height,\n",
    "                    ha='center', va='bottom', color='white')\n",
    "\n",
    "        plt.ylabel('Accuracy')\n",
    "        plt.title(path)\n",
    "        plt.xlabel('seed')\n",
    "        plt.xticks(index, tuple([i for i in sorted(generalize.keys())]))\n",
    "        plt.legend()\n",
    "\n",
    "        plt.show()\n",
    "        \n",
    "        print('Mean training accuracy: ' + str(np.mean(all_train_acc)))\n",
    "        print('Mean generalization accuracy: ' + str(np.mean(all_gen_acc)))\n",
    "        \n",
    "    return all_acc\n",
    "\n"
   ]
  },
  {
   "cell_type": "markdown",
   "metadata": {},
   "source": [
    "# Accuracy comparison (generalize vs train)"
   ]
  },
  {
   "cell_type": "code",
   "execution_count": 77,
   "metadata": {
    "scrolled": false
   },
   "outputs": [
    {
     "data": {
      "image/png": "[encoded data removed]",
      "text/plain": [
       "<Figure size 1080x576 with 1 Axes>"
      ]
     },
     "metadata": {
      "needs_background": "light"
     },
     "output_type": "display_data"
    },
    {
     "name": "stdout",
     "output_type": "stream",
     "text": [
      "Mean training accuracy: 0.9510416669504982\n",
      "Mean generalization accuracy: 0.6055555629233519\n"
     ]
    },
    {
     "data": {
      "image/png": "[encoded data removed]",
      "text/plain": [
       "<Figure size 1080x576 with 1 Axes>"
      ]
     },
     "metadata": {
      "needs_background": "light"
     },
     "output_type": "display_data"
    },
    {
     "name": "stdout",
     "output_type": "stream",
     "text": [
      "Mean training accuracy: 0.9447916678019933\n",
      "Mean generalization accuracy: 0.5861111151675382\n"
     ]
    },
    {
     "ename": "NameError",
     "evalue": "name 'all_acc' is not defined",
     "output_type": "error",
     "traceback": [
      "\u001b[0;31m---------------------------------------------------------------------------\u001b[0m",
      "\u001b[0;31mNameError\u001b[0m                                 Traceback (most recent call last)",
      "\u001b[0;32m<ipython-input-77-5541f85aea0c>\u001b[0m in \u001b[0;36m<module>\u001b[0;34m()\u001b[0m\n\u001b[0;32m----> 1\u001b[0;31m \u001b[0mall_acc\u001b[0m \u001b[0;34m=\u001b[0m \u001b[0mplot_results\u001b[0m\u001b[0;34m(\u001b[0m\u001b[0mpaths\u001b[0m\u001b[0;34m)\u001b[0m\u001b[0;34m\u001b[0m\u001b[0;34m\u001b[0m\u001b[0m\n\u001b[0m",
      "\u001b[0;32m<ipython-input-76-29f61c408847>\u001b[0m in \u001b[0;36mplot_results\u001b[0;34m(paths, individual)\u001b[0m\n\u001b[1;32m     60\u001b[0m         \u001b[0mprint\u001b[0m\u001b[0;34m(\u001b[0m\u001b[0;34m'Mean generalization accuracy: '\u001b[0m \u001b[0;34m+\u001b[0m \u001b[0mstr\u001b[0m\u001b[0;34m(\u001b[0m\u001b[0mnp\u001b[0m\u001b[0;34m.\u001b[0m\u001b[0mmean\u001b[0m\u001b[0;34m(\u001b[0m\u001b[0mall_gen_acc\u001b[0m\u001b[0;34m)\u001b[0m\u001b[0;34m)\u001b[0m\u001b[0;34m)\u001b[0m\u001b[0;34m\u001b[0m\u001b[0;34m\u001b[0m\u001b[0m\n\u001b[1;32m     61\u001b[0m \u001b[0;34m\u001b[0m\u001b[0m\n\u001b[0;32m---> 62\u001b[0;31m     \u001b[0;32mreturn\u001b[0m \u001b[0mall_acc\u001b[0m\u001b[0;34m\u001b[0m\u001b[0;34m\u001b[0m\u001b[0m\n\u001b[0m",
      "\u001b[0;31mNameError\u001b[0m: name 'all_acc' is not defined"
     ]
    }
   ],
   "source": [
    "all_acc = plot_results(paths)"
   ]
  },
  {
   "cell_type": "markdown",
   "metadata": {},
   "source": [
    "## Show that the targets are the same across all seeds"
   ]
  },
  {
   "cell_type": "code",
   "execution_count": 82,
   "metadata": {
    "scrolled": false
   },
   "outputs": [
    {
     "name": "stdout",
     "output_type": "stream",
     "text": [
      "-----------runs/lstm_max_len_10_vocab_25_attr_5_split_2-------------\n",
      "generalize targets:  27\n",
      "generalize distractors:  71\n",
      "\n",
      "train targets:  216\n",
      "train distractors:  205\n",
      "\n",
      "generalize targets:  27\n",
      "generalize distractors:  71\n",
      "\n",
      "train targets:  216\n",
      "train distractors:  215\n",
      "\n",
      "generalize targets:  27\n",
      "generalize distractors:  71\n",
      "\n",
      "train targets:  216\n",
      "train distractors:  216\n",
      "\n",
      "generalize targets:  27\n",
      "generalize distractors:  71\n",
      "\n",
      "train targets:  216\n",
      "train distractors:  216\n",
      "\n",
      "generalize targets:  27\n",
      "generalize distractors:  71\n",
      "\n",
      "train targets:  216\n",
      "train distractors:  216\n",
      "\n",
      "generalize targets:  27\n",
      "generalize distractors:  71\n",
      "\n",
      "train targets:  216\n",
      "train distractors:  216\n",
      "\n",
      "generalize targets:  27\n",
      "generalize distractors:  71\n",
      "\n",
      "train targets:  216\n",
      "train distractors:  216\n",
      "\n",
      "generalize targets:  27\n",
      "generalize distractors:  71\n",
      "\n",
      "train targets:  216\n",
      "train distractors:  216\n",
      "\n",
      "generalize targets:  27\n",
      "generalize distractors:  71\n",
      "\n",
      "train targets:  216\n",
      "train distractors:  216\n",
      "\n",
      "generalize targets:  27\n",
      "generalize distractors:  71\n",
      "\n",
      "train targets:  216\n",
      "train distractors:  216\n",
      "\n",
      "\n",
      "-----------runs/lstm_max_len_10_vocab_25_same_data_attr_5_split_2-------------\n",
      "generalize targets:  27\n",
      "generalize distractors:  71\n",
      "\n",
      "train targets:  216\n",
      "train distractors:  208\n",
      "\n",
      "generalize targets:  27\n",
      "generalize distractors:  71\n",
      "\n",
      "train targets:  216\n",
      "train distractors:  208\n",
      "\n",
      "generalize targets:  27\n",
      "generalize distractors:  71\n",
      "\n",
      "train targets:  216\n",
      "train distractors:  208\n",
      "\n",
      "generalize targets:  27\n",
      "generalize distractors:  71\n",
      "\n",
      "train targets:  216\n",
      "train distractors:  208\n",
      "\n",
      "generalize targets:  27\n",
      "generalize distractors:  71\n",
      "\n",
      "train targets:  216\n",
      "train distractors:  208\n",
      "\n",
      "generalize targets:  27\n",
      "generalize distractors:  71\n",
      "\n",
      "train targets:  216\n",
      "train distractors:  208\n",
      "\n",
      "generalize targets:  27\n",
      "generalize distractors:  71\n",
      "\n",
      "train targets:  216\n",
      "train distractors:  208\n",
      "\n",
      "generalize targets:  27\n",
      "generalize distractors:  71\n",
      "\n",
      "train targets:  216\n",
      "train distractors:  208\n",
      "\n",
      "generalize targets:  27\n",
      "generalize distractors:  71\n",
      "\n",
      "train targets:  216\n",
      "train distractors:  208\n",
      "\n",
      "generalize targets:  27\n",
      "generalize distractors:  71\n",
      "\n",
      "train targets:  216\n",
      "train distractors:  208\n",
      "\n",
      "\n"
     ]
    }
   ],
   "source": [
    "for path in paths:\n",
    "    train, generalize = load_metrics(path)\n",
    "    \n",
    "    print('-----------' + path + '-------------')\n",
    "    # create set\n",
    "    targets = set()\n",
    "    distractors = set()\n",
    "    \n",
    "    t_targets = set()\n",
    "    t_distractors = set()\n",
    "    \n",
    "    for seed in train.keys():\n",
    "        \n",
    "        for tar in generalize[seed]['targets']:            \n",
    "            targets.add(tuple(tar))\n",
    "            \n",
    "        for dis in generalize[seed]['distractors']:\n",
    "            distractors.add(tuple(dis))\n",
    "            \n",
    "        for tar in train[seed]['targets']:            \n",
    "            t_targets.add(tuple(tar))\n",
    "            \n",
    "        for dis in train[seed]['distractors']:\n",
    "            t_distractors.add(tuple(dis))\n",
    "        \n",
    "\n",
    "        print('generalize targets: ', len(targets))\n",
    "        print('generalize distractors: ', len(distractors))\n",
    "        print()\n",
    "        print('train targets: ', len(t_targets))\n",
    "        print('train distractors: ', len(t_distractors))\n",
    "        print()\n",
    "    print()\n",
    "    \n",
    "\n",
    "            "
   ]
  },
  {
   "cell_type": "code",
   "execution_count": 107,
   "metadata": {},
   "outputs": [],
   "source": [
    "from itertools import combinations\n",
    "\n",
    "path = \"runs/lstm_max_len_10_vocab_25_same_data_attr_5_split_2\"\n",
    "\n",
    "train, generalize = load_metrics(path)\n",
    "\n",
    "train_targets = []\n",
    "train_distractors = []\n",
    "gen_targets = []\n",
    "gen_distractors = []\n",
    "\n",
    "# extract all targets\n",
    "for seed in train.keys():\n",
    "    train_targets.append(train[seed]['targets'])\n",
    "    train_distractors.append(train[seed]['distractors'])\n",
    "    gen_targets.append(train[seed]['targets'])\n",
    "    gen_distractors.append(train[seed]['distractors'])\n",
    "\n",
    "    \n",
    "def check_equal(samples, check):\n",
    "    for t1, t2 in combinations(samples,2):\n",
    "        if not np.array_equal(t1,t2):\n",
    "            print('Not equal, ', check)\n",
    "\n",
    "\n",
    "check_equal(train_targets, 0)\n",
    "\n",
    "check_equal(train_distractors, 1)\n",
    "\n",
    "check_equal(gen_targets, 2)\n",
    "\n",
    "check_equal(gen_distractors, 3)\n"
   ]
  },
  {
   "cell_type": "code",
   "execution_count": 106,
   "metadata": {},
   "outputs": [
    {
     "name": "stdout",
     "output_type": "stream",
     "text": [
      "[[1. 0. 0. 1. 0. 0. 1. 0. 0. 1. 0. 0. 1. 0. 0.]\n",
      " [1. 0. 0. 1. 0. 0. 1. 0. 0. 1. 0. 0. 0. 1. 0.]\n",
      " [1. 0. 0. 1. 0. 0. 1. 0. 0. 1. 0. 0. 0. 0. 1.]\n",
      " [1. 0. 0. 1. 0. 0. 1. 0. 0. 0. 1. 0. 1. 0. 0.]\n",
      " [1. 0. 0. 1. 0. 0. 1. 0. 0. 0. 1. 0. 0. 1. 0.]\n",
      " [1. 0. 0. 1. 0. 0. 1. 0. 0. 0. 1. 0. 0. 0. 1.]\n",
      " [1. 0. 0. 1. 0. 0. 1. 0. 0. 0. 0. 1. 1. 0. 0.]\n",
      " [1. 0. 0. 1. 0. 0. 1. 0. 0. 0. 0. 1. 0. 1. 0.]\n",
      " [1. 0. 0. 1. 0. 0. 1. 0. 0. 0. 0. 1. 0. 0. 1.]\n",
      " [1. 0. 0. 1. 0. 0. 0. 1. 0. 1. 0. 0. 1. 0. 0.]\n",
      " [1. 0. 0. 1. 0. 0. 0. 1. 0. 1. 0. 0. 0. 1. 0.]\n",
      " [1. 0. 0. 1. 0. 0. 0. 1. 0. 1. 0. 0. 0. 0. 1.]\n",
      " [1. 0. 0. 1. 0. 0. 0. 1. 0. 0. 1. 0. 1. 0. 0.]\n",
      " [1. 0. 0. 1. 0. 0. 0. 1. 0. 0. 1. 0. 0. 1. 0.]\n",
      " [1. 0. 0. 1. 0. 0. 0. 1. 0. 0. 1. 0. 0. 0. 1.]\n",
      " [1. 0. 0. 1. 0. 0. 0. 1. 0. 0. 0. 1. 1. 0. 0.]\n",
      " [1. 0. 0. 1. 0. 0. 0. 1. 0. 0. 0. 1. 0. 1. 0.]\n",
      " [1. 0. 0. 1. 0. 0. 0. 1. 0. 0. 0. 1. 0. 0. 1.]\n",
      " [1. 0. 0. 1. 0. 0. 0. 0. 1. 1. 0. 0. 1. 0. 0.]\n",
      " [1. 0. 0. 1. 0. 0. 0. 0. 1. 1. 0. 0. 0. 1. 0.]\n",
      " [1. 0. 0. 1. 0. 0. 0. 0. 1. 1. 0. 0. 0. 0. 1.]\n",
      " [1. 0. 0. 1. 0. 0. 0. 0. 1. 0. 1. 0. 1. 0. 0.]\n",
      " [1. 0. 0. 1. 0. 0. 0. 0. 1. 0. 1. 0. 0. 1. 0.]\n",
      " [1. 0. 0. 1. 0. 0. 0. 0. 1. 0. 1. 0. 0. 0. 1.]\n",
      " [1. 0. 0. 1. 0. 0. 0. 0. 1. 0. 0. 1. 1. 0. 0.]\n",
      " [1. 0. 0. 1. 0. 0. 0. 0. 1. 0. 0. 1. 0. 1. 0.]\n",
      " [1. 0. 0. 1. 0. 0. 0. 0. 1. 0. 0. 1. 0. 0. 1.]]\n",
      "[[1. 0. 0. 1. 0. 0. 1. 0. 0. 1. 0. 0. 1. 0. 0.]\n",
      " [1. 0. 0. 1. 0. 0. 1. 0. 0. 1. 0. 0. 0. 1. 0.]\n",
      " [1. 0. 0. 1. 0. 0. 1. 0. 0. 1. 0. 0. 0. 0. 1.]\n",
      " [1. 0. 0. 1. 0. 0. 1. 0. 0. 0. 1. 0. 1. 0. 0.]\n",
      " [1. 0. 0. 1. 0. 0. 1. 0. 0. 0. 1. 0. 0. 1. 0.]\n",
      " [1. 0. 0. 1. 0. 0. 1. 0. 0. 0. 1. 0. 0. 0. 1.]\n",
      " [1. 0. 0. 1. 0. 0. 1. 0. 0. 0. 0. 1. 1. 0. 0.]\n",
      " [1. 0. 0. 1. 0. 0. 1. 0. 0. 0. 0. 1. 0. 1. 0.]\n",
      " [1. 0. 0. 1. 0. 0. 1. 0. 0. 0. 0. 1. 0. 0. 1.]\n",
      " [1. 0. 0. 1. 0. 0. 0. 1. 0. 1. 0. 0. 1. 0. 0.]\n",
      " [1. 0. 0. 1. 0. 0. 0. 1. 0. 1. 0. 0. 0. 1. 0.]\n",
      " [1. 0. 0. 1. 0. 0. 0. 1. 0. 1. 0. 0. 0. 0. 1.]\n",
      " [1. 0. 0. 1. 0. 0. 0. 1. 0. 0. 1. 0. 1. 0. 0.]\n",
      " [1. 0. 0. 1. 0. 0. 0. 1. 0. 0. 1. 0. 0. 1. 0.]\n",
      " [1. 0. 0. 1. 0. 0. 0. 1. 0. 0. 1. 0. 0. 0. 1.]\n",
      " [1. 0. 0. 1. 0. 0. 0. 1. 0. 0. 0. 1. 1. 0. 0.]\n",
      " [1. 0. 0. 1. 0. 0. 0. 1. 0. 0. 0. 1. 0. 1. 0.]\n",
      " [1. 0. 0. 1. 0. 0. 0. 1. 0. 0. 0. 1. 0. 0. 1.]\n",
      " [1. 0. 0. 1. 0. 0. 0. 0. 1. 1. 0. 0. 1. 0. 0.]\n",
      " [1. 0. 0. 1. 0. 0. 0. 0. 1. 1. 0. 0. 0. 1. 0.]\n",
      " [1. 0. 0. 1. 0. 0. 0. 0. 1. 1. 0. 0. 0. 0. 1.]\n",
      " [1. 0. 0. 1. 0. 0. 0. 0. 1. 0. 1. 0. 1. 0. 0.]\n",
      " [1. 0. 0. 1. 0. 0. 0. 0. 1. 0. 1. 0. 0. 1. 0.]\n",
      " [1. 0. 0. 1. 0. 0. 0. 0. 1. 0. 1. 0. 0. 0. 1.]\n",
      " [1. 0. 0. 1. 0. 0. 0. 0. 1. 0. 0. 1. 1. 0. 0.]\n",
      " [1. 0. 0. 1. 0. 0. 0. 0. 1. 0. 0. 1. 0. 1. 0.]\n",
      " [1. 0. 0. 1. 0. 0. 0. 0. 1. 0. 0. 1. 0. 0. 1.]]\n"
     ]
    }
   ],
   "source": [
    "path = \"runs/lstm_max_len_10_vocab_25_attr_5_split_2/pair1\"\n",
    "\n",
    "train, generalize = load_metrics(path)\n",
    "\n",
    "print(generalize['1']['targets'])\n",
    "print(generalize['2']['targets'])\n"
   ]
  },
  {
   "cell_type": "markdown",
   "metadata": {},
   "source": [
    "# RSA analysis"
   ]
  },
  {
   "cell_type": "code",
   "execution_count": 79,
   "metadata": {
    "scrolled": false
   },
   "outputs": [
    {
     "name": "stderr",
     "output_type": "stream",
     "text": [
      "'c' argument looks like a single numeric RGB or RGBA sequence, which should be avoided as value-mapping will have precedence in case its length matches with 'x' & 'y'.  Please use a 2-D array with a single row if you really want to specify the same RGB or RGBA value for all points.\n"
     ]
    },
    {
     "name": "stdout",
     "output_type": "stream",
     "text": [
      "runs/lstm_max_len_10_vocab_25_same_data_attr_5_split_2\n"
     ]
    },
    {
     "data": {
      "image/png": "[encoded data removed]",
      "text/plain": [
       "<Figure size 1080x576 with 1 Axes>"
      ]
     },
     "metadata": {
      "needs_background": "light"
     },
     "output_type": "display_data"
    },
    {
     "name": "stdout",
     "output_type": "stream",
     "text": [
      "-0.4352109351429901\n"
     ]
    }
   ],
   "source": [
    "from scipy.stats import pearsonr\n",
    "\n",
    "# open file\n",
    "print(path)\n",
    "file = path + '/rsa_analysis.pkl'\n",
    "results = pickle.load(open(file, 'rb'))\n",
    "\n",
    "# open accuracies\n",
    "train, generalize = load_metrics(path)\n",
    "\n",
    "rsa_array = []\n",
    "perf_gap = []\n",
    "\n",
    "for seed in results['ham_messages']:\n",
    "    \n",
    "    if len(seed) > 5:\n",
    "        continue        \n",
    "    \n",
    "    # extract rsa\n",
    "    rsa_array.append(results['ham_messages'][seed][10000])\n",
    "        \n",
    "    # split seeds\n",
    "    \n",
    "    # first check if there is a 10\n",
    "    index = seed.find('10')\n",
    "    \n",
    "    if index > -1:\n",
    "        # extract seeds\n",
    "        s1 = seed[index:index+2]\n",
    "        s2 = seed[0:index:] + seed[index + 2::]\n",
    "    else:\n",
    "        # split equally\n",
    "        s1 = seed[0]\n",
    "        s2 = seed[1]\n",
    "        \n",
    "    # extract performance gap\n",
    "    a1 = generalize[s1]['acc']\n",
    "    a2 = generalize[s2]['acc']\n",
    "    \n",
    "    perf_gap.append(abs(a1-a2))\n",
    "    \n",
    "fig, ax = plt.subplots(figsize=(15,8))\n",
    "colors = (0,0,0)\n",
    "\n",
    "\n",
    "# Plot\n",
    "plt.scatter(rsa_array, perf_gap, c=colors, alpha=0.5)\n",
    "plt.title('Scatter plot pythonspot.com')\n",
    "plt.xlabel('RSA')\n",
    "plt.ylabel('Performance gap')\n",
    "plt.show()\n",
    "\n",
    "r = pearsonr(rsa_array, perf_gap)[0]\n",
    "\n",
    "print(r)\n",
    "\n",
    "\n",
    "\n",
    "# print rsa's"
   ]
  },
  {
   "cell_type": "markdown",
   "metadata": {},
   "source": [
    "## Statistical test\n",
    "To find out whether the performances actually significantly differ, we check whether the distribution is normally distributed or not. The though behind this is that normally distributed data is data that does not differ much within its own distribution. In this case, we want to prove that data is actually distributed in a non-normally distributed way, since all seeds appear to have their own solution. The performances should be all over the place, and thus not normally distributed."
   ]
  },
  {
   "cell_type": "code",
   "execution_count": 74,
   "metadata": {},
   "outputs": [
    {
     "name": "stdout",
     "output_type": "stream",
     "text": [
      "(0.9275479316711426, 0.4242120385169983)\n",
      "(0.945758044719696, 0.6186644434928894)\n",
      "Ttest_indResult(statistic=-3.871451135135072, pvalue=0.0011183512143417274)\n"
     ]
    }
   ],
   "source": [
    "from scipy.stats import shapiro, ttest_ind\n",
    "\n",
    "train, generalize = load_metrics(path)\n",
    "\n",
    "all_gen_acc = []\n",
    "all_train_acc = []\n",
    "\n",
    "# get the accuracy\n",
    "for i, seed in enumerate(sorted(generalize.keys())):\n",
    "\n",
    "    # get the accuracy for the seed\n",
    "    gen_acc = generalize[seed]['acc']\n",
    "    train_acc = train[seed]['acc']\n",
    "    all_gen_acc.append(gen_acc)\n",
    "    all_train_acc.append(train_acc)\n",
    "    \n",
    "    \n",
    "\n",
    "print(shapiro(all_gen_acc))\n",
    "\n",
    "\n",
    "print(shapiro(all_train_acc))\n",
    "\n",
    "print(ttest_ind(all_gen_acc, all_train_acc))"
   ]
  },
  {
   "cell_type": "markdown",
   "metadata": {},
   "source": [
    "## Conclusion\n",
    "There exists some correlation between the performance gap and the RSA in messages, however this is a very significant correlation. We need something to compare this to."
   ]
  },
  {
   "cell_type": "markdown",
   "metadata": {},
   "source": [
    "# Manual RSA analysis"
   ]
  },
  {
   "cell_type": "code",
   "execution_count": 10,
   "metadata": {
    "scrolled": false
   },
   "outputs": [],
   "source": [
    "def get_same_count(generalize, train):\n",
    "    # now check for the messages describing similar targets\n",
    "    VOCAB = 25\n",
    "    # get a target from the generalize set\n",
    "    same_count = 0\n",
    "    count = 0\n",
    "    #seed = '4'\n",
    "    for tar_i in range(len(generalize['targets'])):\n",
    "\n",
    "        target = generalize['targets'][tar_i]\n",
    "\n",
    "        #print('Generalize message: ', generalize['messages'][tar_i])\n",
    "\n",
    "        # extract targets\n",
    "        train_targets = train['targets']\n",
    "        generalize_targets = generalize['targets']\n",
    "\n",
    "        # extract messages\n",
    "        train_messages = train['messages']\n",
    "        generalize_messages = generalize['messages']\n",
    "\n",
    "\n",
    "        for i, train_target in enumerate(train_targets):\n",
    "            score = spatial.distance.hamming(target, train_target)\n",
    "\n",
    "            # check if targets are close\n",
    "            if score < 0.2:\n",
    "                \n",
    "                # keep track of the amount of similar targets               \n",
    "                count += 1\n",
    "                \n",
    "                # check whether the messages are identical for these similar targets\n",
    "                if tuple(train_messages[i]) == tuple(generalize_messages[tar_i]):\n",
    "                    same_count += 1\n",
    "                    \n",
    "    return same_count, count\n"
   ]
  },
  {
   "cell_type": "markdown",
   "metadata": {},
   "source": [
    "# Nr of identical messages\n",
    "But how many of the targets actually produce identical messages?"
   ]
  },
  {
   "cell_type": "code",
   "execution_count": 189,
   "metadata": {},
   "outputs": [
    {
     "name": "stdout",
     "output_type": "stream",
     "text": [
      "30 / 66\n",
      "20 / 66\n",
      "29 / 66\n",
      "0 / 66\n",
      "11 / 66\n",
      "17 / 66\n",
      "16 / 66\n",
      "6 / 66\n",
      "4 / 66\n",
      "20 / 66\n"
     ]
    }
   ],
   "source": [
    "for seed in sorted(train.keys()):\n",
    "    #print('For seed ' + str(seed) + ', we find the following amount of identical messages:')\n",
    "    same_count, count = get_same_count(generalize[seed], train[seed])\n",
    "    print(same_count, '/', count)\n",
    "\n",
    "#print(same_count, '/', count)  "
   ]
  },
  {
   "cell_type": "markdown",
   "metadata": {},
   "source": [
    "How identical are the messages? Compared to the targets?"
   ]
  },
  {
   "cell_type": "code",
   "execution_count": 190,
   "metadata": {},
   "outputs": [
    {
     "name": "stdout",
     "output_type": "stream",
     "text": [
      "0.43030303030303024\n",
      "0.2769230769230769\n"
     ]
    }
   ],
   "source": [
    "from itertools import combinations\n",
    "\n",
    "generalize_messages = generalize[seed]['messages']\n",
    "\n",
    "similarities = []\n",
    "for (message1, message2) in combinations(generalize_messages, 2):\n",
    "    similarity = levenshtein_ratio_and_distance(message1,message2)\n",
    "    similarities.append(similarity)\n",
    "\n",
    "print(np.average(similarities))        \n",
    "\n",
    "distances = []\n",
    "for (target1, target2) in combinations(generalize_targets, 2):\n",
    "    distance = spatial.distance.hamming(target1, target2)\n",
    "    distances.append(distance)\n",
    "    \n",
    "print(np.average(distances))"
   ]
  },
  {
   "cell_type": "markdown",
   "metadata": {},
   "source": [
    "Do the others resemble any similarities? Let's try and show that by checking at the distances between the messages"
   ]
  },
  {
   "cell_type": "code",
   "execution_count": 191,
   "metadata": {},
   "outputs": [
    {
     "name": "stdout",
     "output_type": "stream",
     "text": [
      "\n",
      "Seed 1: \t0.7107438016528925\n",
      "Seed 10: \t0.5840220385674931\n",
      "Seed 2: \t0.7258953168044077\n",
      "Seed 3: \t0.5661157024793387\n",
      "Seed 4: \t0.696969696969697\n",
      "Seed 5: \t0.637741046831956\n",
      "Seed 6: \t0.6239669421487603\n",
      "Seed 7: \t0.5812672176308542\n",
      "Seed 8: \t0.5826446280991735\n",
      "Seed 9: \t0.7672176308539944\n"
     ]
    }
   ],
   "source": [
    "# go through all seeds\n",
    "print()\n",
    "for seed in sorted(train.keys()):\n",
    "    \n",
    "    sim = get_similarity(train[seed], generalize[seed])\n",
    "    print('Seed ' + str(seed) + ': \\t' + str(sim))"
   ]
  },
  {
   "cell_type": "markdown",
   "metadata": {},
   "source": [
    "### Note that there exist pretty big differences between the train and generalize messages per initialization"
   ]
  },
  {
   "cell_type": "markdown",
   "metadata": {},
   "source": [
    "# Conclusion\n",
    "\n",
    "So far we have a couple of reasons to believe that agents actually hash new objects that they see.\n",
    "\n",
    "First of all, if we use just a small proportion of the data for the generalization, we find that a lot of the messages (1/5) are the exact same for samples that they have not seen before.\n",
    "\n",
    "Second, if we however use a large proportion of the data for generalization, we find that messages that are used for these newly seen objects are extremely similar. Which, they should not be.\n",
    "\n",
    "The more data we use for generalization, the more similar the messages. This is in favour of the hash hypothesis. They have never seen this new target so they do not at all match it with what they currently know, instead they just try something new.\n",
    "\n",
    "### Main finding: the more targets are unknown to the model, the more similar the messages that describe these targets are."
   ]
  },
  {
   "cell_type": "markdown",
   "metadata": {},
   "source": [
    "# What's next\n",
    "\n",
    "Maybe check message similarity for the same targets, this will remove any data biases that might cause this effect."
   ]
  },
  {
   "cell_type": "code",
   "execution_count": null,
   "metadata": {},
   "outputs": [],
   "source": []
  },
  {
   "cell_type": "code",
   "execution_count": null,
   "metadata": {},
   "outputs": [],
   "source": []
  }
 ],
 "metadata": {
  "kernelspec": {
   "display_name": "Python 3",
   "language": "python",
   "name": "python3"
  },
  "language_info": {
   "codemirror_mode": {
    "name": "ipython",
    "version": 3
   },
   "file_extension": ".py",
   "mimetype": "text/x-python",
   "name": "python",
   "nbconvert_exporter": "python",
   "pygments_lexer": "ipython3",
   "version": "3.6.8"
  }
 },
 "nbformat": 4,
 "nbformat_minor": 2
}
